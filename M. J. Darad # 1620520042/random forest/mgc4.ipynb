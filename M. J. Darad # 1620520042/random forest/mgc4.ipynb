{
 "cells": [
  {
   "cell_type": "code",
   "execution_count": 1,
   "metadata": {},
   "outputs": [],
   "source": [
    "import itertools\n",
    "import numpy as np\n",
    "import pandas as pd\n",
    "import matplotlib.pyplot as plt\n",
    "\n",
    "import sklearn\n",
    "from sklearn.preprocessing import StandardScaler\n",
    "from sklearn.metrics import accuracy_score\n",
    "from sklearn.model_selection import StratifiedKFold\n",
    "from sklearn.metrics import confusion_matrix\n",
    "\n",
    "from sklearn.decomposition import PCA\n",
    "from sklearn.manifold import TSNE\n",
    "from sklearn.discriminant_analysis import LinearDiscriminantAnalysis as LDA\n",
    "\n",
    "from sklearn.ensemble import RandomForestClassifier"
   ]
  },
  {
   "cell_type": "code",
   "execution_count": 2,
   "metadata": {},
   "outputs": [],
   "source": [
    "# Genre dictionary\n",
    "genres = {'metal': 0, 'disco': 1, 'classical': 2, 'hiphop': 3, 'jazz': 4, \n",
    "          'country': 5, 'pop': 6, 'blues': 7, 'reggae': 8, 'rock': 9}"
   ]
  },
  {
   "cell_type": "code",
   "execution_count": 3,
   "metadata": {},
   "outputs": [
    {
     "data": {
      "text/plain": [
       "(1000, 74)"
      ]
     },
     "execution_count": 3,
     "metadata": {},
     "output_type": "execute_result"
    }
   ],
   "source": [
    "# Read the dataset of audio features\n",
    "df_gtzan = pd.read_csv(\"./data/GTZAN_Features.csv\")\n",
    "df_gtzan.shape"
   ]
  },
  {
   "cell_type": "code",
   "execution_count": 4,
   "metadata": {},
   "outputs": [],
   "source": [
    "X = df_gtzan.drop(['genre'], axis=1).values\n",
    "y = df_gtzan['genre'].ravel()"
   ]
  },
  {
   "cell_type": "code",
   "execution_count": 5,
   "metadata": {},
   "outputs": [],
   "source": [
    "# Standartize the dataset\n",
    "scale = StandardScaler()\n",
    "x_scaled = scale.fit_transform(X)"
   ]
  },
  {
   "cell_type": "code",
   "execution_count": 6,
   "metadata": {},
   "outputs": [
    {
     "name": "stdout",
     "output_type": "stream",
     "text": [
      "[t-SNE] Computing 91 nearest neighbors...\n",
      "[t-SNE] Indexed 1000 samples in 0.006s...\n",
      "[t-SNE] Computed neighbors for 1000 samples in 0.144s...\n",
      "[t-SNE] Computed conditional probabilities for sample 1000 / 1000\n",
      "[t-SNE] Mean sigma: 2.529069\n",
      "[t-SNE] KL divergence after 250 iterations with early exaggeration: 76.992493\n",
      "[t-SNE] KL divergence after 1000 iterations: 1.246261\n"
     ]
    }
   ],
   "source": [
    "# Using tsne\n",
    "tsne = TSNE(n_components=2, verbose=1, learning_rate=250)\n",
    "x_tsne = tsne.fit_transform(x_scaled)"
   ]
  },
  {
   "cell_type": "code",
   "execution_count": 7,
   "metadata": {},
   "outputs": [],
   "source": [
    "# Helper to plot confusion matrix -- from Scikit-learn website\n",
    "def plot_confusion_matrix(cm, classes,\n",
    "                          normalize=False,\n",
    "                          title='Confusion matrix',\n",
    "                          cmap=plt.cm.Blues):\n",
    "    \"\"\"\n",
    "    This function prints and plots the confusion matrix.\n",
    "    Normalization can be applied by setting `normalize=True`.\n",
    "    \"\"\"\n",
    "    if normalize:\n",
    "        cm = cm.astype('float') / cm.sum(axis=1)[:, np.newaxis]\n",
    "\n",
    "    plt.imshow(cm, interpolation='nearest', cmap=cmap)\n",
    "    plt.title(title)\n",
    "    plt.colorbar()\n",
    "    tick_marks = np.arange(len(classes))\n",
    "    plt.xticks(tick_marks, classes, rotation=45)\n",
    "    plt.yticks(tick_marks, classes)\n",
    "\n",
    "    fmt = '.2f' if normalize else 'd'\n",
    "    thresh = cm.max() / 2.\n",
    "    for i, j in itertools.product(range(cm.shape[0]), range(cm.shape[1])):\n",
    "        plt.text(j, i, format(cm[i, j], fmt),\n",
    "                 horizontalalignment=\"center\",\n",
    "                 color=\"white\" if cm[i, j] > thresh else \"black\")\n",
    "\n",
    "    plt.ylabel('True label')\n",
    "    plt.xlabel('Predicted label')\n",
    "    plt.show()"
   ]
  },
  {
   "cell_type": "code",
   "execution_count": 8,
   "metadata": {},
   "outputs": [],
   "source": [
    "# K-Fold helper\n",
    "def kfold_validate(clf, X, y, k_folds = 5):\n",
    "    # Constants\n",
    "    acc, count, cm = [], 0, 0\n",
    "    kf = StratifiedKFold(n_splits=k_folds, shuffle = True, random_state=4321)\n",
    "    \n",
    "    # K-fold split\n",
    "    for train_idx, test_idx in kf.split(X, y):\n",
    "        # Count each fold are we validating\n",
    "        count += 1\n",
    "        \n",
    "        # Separe training and test in the Training set for k-Fold\n",
    "        fold_Xtrain, fold_Xtest = X[train_idx], X[test_idx]\n",
    "        fold_ytrain, fold_ytest = y[train_idx], y[test_idx]\n",
    "        \n",
    "        # Normalize the data\n",
    "        scale = StandardScaler()\n",
    "        scale.fit(fold_Xtrain)\n",
    "        fold_Xtrain = scale.transform(fold_Xtrain)\n",
    "        fold_Xtest = scale.transform(fold_Xtest)\n",
    "\n",
    "        # Train\n",
    "        clf = sklearn.base.clone(clf)\n",
    "        clf.fit(fold_Xtrain, fold_ytrain)\n",
    "        pred = clf.predict(fold_Xtest)\n",
    "        accuracy = accuracy_score(fold_ytest, pred)\n",
    "        cm += confusion_matrix(fold_ytest, pred)\n",
    "        acc.append(accuracy)\n",
    "        print(\"Fold: %s of % s => accuracy_score = %s\" %(count, k_folds, accuracy))\n",
    "    \n",
    "    print(\"\\n::Accuracy_score statistics::\")\n",
    "    print(\"Mean = {0:.5f}\".format(np.mean(acc)))\n",
    "    print(\"STD = {0:.5f}\".format(np.std(acc)))\n",
    "    return cm"
   ]
  },
  {
   "cell_type": "code",
   "execution_count": null,
   "metadata": {},
   "outputs": [],
   "source": []
  }
 ],
 "metadata": {
  "kernelspec": {
   "display_name": "Python 3",
   "language": "python",
   "name": "python3"
  },
  "language_info": {
   "codemirror_mode": {
    "name": "ipython",
    "version": 3
   },
   "file_extension": ".py",
   "mimetype": "text/x-python",
   "name": "python",
   "nbconvert_exporter": "python",
   "pygments_lexer": "ipython3",
   "version": "3.7.4"
  }
 },
 "nbformat": 4,
 "nbformat_minor": 2
}
